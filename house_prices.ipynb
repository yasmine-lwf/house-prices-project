{
  "cells": [
    {
      "cell_type": "code",
      "execution_count": null,
      "id": "a1",
      "metadata": {
        "id": "a1"
      },
      "outputs": [],
      "source": [
        "import pandas as pd\n",
        "import matplotlib.pyplot as plt\n",
        "import seaborn as sns\n",
        "\n",
        "train = pd.read_csv(\"data/train.csv\")\n",
        "print(train.head())\n",
        "\n"
      ]
    },
    {
      "cell_type": "code",
      "source": [],
      "metadata": {
        "id": "i5OTIFvfoBVG"
      },
      "id": "i5OTIFvfoBVG",
      "execution_count": null,
      "outputs": []
    }
  ],
  "metadata": {
    "colab": {
      "provenance": []
    }
  },
  "nbformat": 4,
  "nbformat_minor": 5
}